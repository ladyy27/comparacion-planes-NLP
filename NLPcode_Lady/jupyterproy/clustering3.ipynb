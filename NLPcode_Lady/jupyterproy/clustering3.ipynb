{
 "cells": [
  {
   "cell_type": "code",
   "execution_count": 31,
   "metadata": {},
   "outputs": [],
   "source": [
    "import codecs\n",
    "import pandas as pd\n",
    "import nbimporter\n",
    "from MySQL_connection import *\n",
    "from preprocessing import *\n",
    "from clustering2_methods import *\n",
    "from detect_es import *\n",
    "from sklearn.feature_extraction.text import TfidfVectorizer\n",
    "import string\n",
    "import math\n",
    "from sklearn.externals import joblib\n",
    "import matplotlib.pyplot as plt\n",
    "import scipy\n",
    "from scipy.cluster.hierarchy import ward, dendrogram, fcluster, to_tree\n",
    "from sklearn.cluster import KMeans, AgglomerativeClustering,AffinityPropagation"
   ]
  },
  {
   "cell_type": "code",
   "execution_count": null,
   "metadata": {},
   "outputs": [],
   "source": [
    "#Crear lista de materias\n",
    "lista_materias = []\n",
    "lista_carreras = []\n",
    "lista_ids_tabla = []\n",
    "lista_codigos = []\n",
    "asignaturas = ieee_select_query(\"SELECT id, p, o, o_en FROM planes WHERE p = 'asignatura' OR p = 'responsable' OR p = 'codigo'\")\n",
    "\n",
    "for asig in asignaturas:\n",
    "    #print (asig['p'])\n",
    "    if asig['p'] == 'asignatura':\n",
    "        lista_materias.append(str(asig['o_en']))\n",
    "        lista_ids_tabla.append(asig['id'])\n",
    "    elif asig['p'] == 'responsable':\n",
    "        lista_carreras.append(asig['o'])\n",
    "    elif asig['p'] == 'codigo':\n",
    "        lista_codigos.append(asig['o'])\n",
    "\n",
    "print(len (lista_codigos))\n",
    "#for i in enumerate (lista_materias):\n",
    "#    print (i)"
   ]
  },
  {
   "cell_type": "code",
   "execution_count": null,
   "metadata": {},
   "outputs": [],
   "source": [
    "#Construir vectorizador, recibe como parámetro de entrada una funcion que toma los textos, extrae tokens y los lemas de cada token\n",
    "TfidfVec = TfidfVectorizer( encoding='utf-8', tokenizer=LemNormalize, stop_words='english', use_idf=True, analyzer='word', ngram_range=(1,1))\n",
    "#Entrenar los datos y obtener matriz TF-IDF\n",
    "matriz_tfidf = TfidfVec.fit_transform(lista_materias)"
   ]
  },
  {
   "cell_type": "code",
   "execution_count": null,
   "metadata": {},
   "outputs": [],
   "source": [
    "#print (TfidfVec.get_feature_names())\n",
    "x_fit=pd.DataFrame(matriz_tfidf.toarray(), columns=TfidfVec.get_feature_names())\n",
    "x_fit.to_csv(\"files/matrizTFIDF_english.csv\")"
   ]
  },
  {
   "cell_type": "code",
   "execution_count": null,
   "metadata": {},
   "outputs": [],
   "source": [
    "#Similitud del coseno: Sacar las distancias entre vectores de palabras, multiplicar la matriz TF-IDF por su transversa\n",
    "matriz_distancias = (matriz_tfidf * matriz_tfidf.T).toarray()\n",
    "#for a in matriz_distancias:\n",
    "    #print (a)"
   ]
  },
  {
   "cell_type": "code",
   "execution_count": null,
   "metadata": {},
   "outputs": [],
   "source": [
    "#Matriz de algoritmo jerarquico\n",
    "linkage_matrix = ward(matriz_distancias) #define the linkage_matrix using ward clustering pre-computed distances\n",
    "#print (linkage_matrix)"
   ]
  },
  {
   "cell_type": "code",
   "execution_count": null,
   "metadata": {},
   "outputs": [],
   "source": [
    "#Ver como Ward va generando los clusters paso a paso\n",
    "id_cluster = len(lista_materias)\n",
    "for cluster in linkage_matrix:\n",
    "    print (id_cluster, cluster)\n",
    "    id_cluster +=1 "
   ]
  },
  {
   "cell_type": "code",
   "execution_count": null,
   "metadata": {},
   "outputs": [],
   "source": [
    "#Imprimir clusters con los labels de las materias\n",
    "fig, ax = plt.subplots(figsize=(20,80)) # set size\n",
    "ax = dendrogram(linkage_matrix, labels=lista_materias, orientation=\"left\", distance_sort='ascending');\n",
    "\n",
    "plt.tick_params( \n",
    "    axis= 'x',          # changes apply to the x-axis\n",
    "    which='both',      # both major and minor ticks are affected\n",
    "    bottom=False,      # ticks along the bottom edge are off\n",
    "    top=False,         # ticks along the top edge are off\n",
    "    labelbottom=False,\n",
    "    grid_linewidth=50)\n",
    "\n",
    "plt.tight_layout() #show plot with tight layout\n",
    "#uncomment below to save figure\n",
    "plt.savefig('clusters_materias_english.png', dpi=200) #save figure as ward_clusters"
   ]
  },
  {
   "cell_type": "code",
   "execution_count": 29,
   "metadata": {},
   "outputs": [
    {
     "data": {
      "text/plain": [
       "'\\nfor n in range(len(lista_materias)):\\n    print (lista_c[n], lista_materias[n])\\n'"
      ]
     },
     "execution_count": 29,
     "metadata": {},
     "output_type": "execute_result"
    }
   ],
   "source": [
    "clusters = fcluster(linkage_matrix, 0.95)\n",
    "lista_c = list(clusters)\n",
    "\"\"\"\n",
    "for n in range(len(lista_materias)):\n",
    "    print (lista_c[n], lista_materias[n])\n",
    "\"\"\""
   ]
  },
  {
   "cell_type": "code",
   "execution_count": 30,
   "metadata": {},
   "outputs": [],
   "source": [
    "hierarchical_clustering = pd.DataFrame({ \n",
    "        'id_materia': lista_ids_tabla,\n",
    "        'codigo': lista_codigos,\n",
    "        'metodo': 'HIERARCHY',\n",
    "        'cluster': lista_c,\n",
    "        'asignatura': lista_materias,\n",
    "        'titulacion': lista_carreras}, columns=['id_materia','codigo', 'metodo','cluster', 'asignatura', 'titulacion'])\n",
    "hierarchical_clustering.to_csv(\"files/clustering_matrix_fcluster_english_95.csv\")"
   ]
  },
  {
   "cell_type": "code",
   "execution_count": null,
   "metadata": {},
   "outputs": [],
   "source": [
    "lengg = len (lista_materias)\n",
    "f = codecs.open(\"files/clustering_titles_english.sql\",\"wb\",encoding=\"UTF-8\")\n",
    "f.write (\"DROP TABLE IF EXISTS clustering_titles; \" + \n",
    "\"CREATE TABLE clustering_titles (\" +\n",
    "\"id int(11) unsigned NOT NULL AUTO_INCREMENT,\" +\n",
    "  \"id_materia int(11) unsigned NOT NULL,\" +\n",
    "  \"codigo varchar(200) NOT NULL DEFAULT '',\" +\n",
    "  \"metodo varchar(200) NOT NULL DEFAULT '', \"+\n",
    "  \"cluster int(11) unsigned NOT NULL, \"+\n",
    "  \"asignatura varchar(200) NOT NULL DEFAULT '', \"+\n",
    "  \"titulacion varchar(200) NOT NULL DEFAULT '', \"+\n",
    "  \"PRIMARY KEY (id) \"+\n",
    "\") ENGINE=InnoDB DEFAULT CHARSET=utf8;\\n\") \n",
    "         \n",
    "for it in range(len(lista_materias)):\n",
    "    print (\"Gua \" + str(it) + \" de \" + str(lengg))\n",
    "    idmateria = lista_ids_tabla[it]\n",
    "    codigo = lista_codigos[it]\n",
    "    cluster_h = lista_c[it]\n",
    "    cluster_ap = clusters[it]\n",
    "    asignatura= lista_materias[it]\n",
    "    titulacion = lista_carrera[it]\n",
    "    #if (cluster_h):\n",
    "    f.write('INSERT into clustering_titles (id_materia, codigo, metodo, cluster, asignatura, titulacion) values (%s, %s,%s, %s, %s, %s)' % (idmateria, '\"' + codigo + '\"','\"' + \"HIERARCHY\" + '\"', cluster_h,'\"' + asignatura + '\"','\"' + titulacion + '\"' ) + ';\\n')\n",
    "    #elif (cluster_ap):\n",
    "    f.write('INSERT into clustering_titles (id_materia, codigo, metodo, cluster, asignatura, titulacion) values (%s, %s,%s, %s, %s, %s)' % (idmateria, '\"' + codigo + '\"','\"' + \"AFFINITY-PROPAGATION\" + '\"', cluster_ap,'\"' + asignatura + '\"','\"' + titulacion + '\"' ) + ';\\n')"
   ]
  },
  {
   "cell_type": "code",
   "execution_count": null,
   "metadata": {},
   "outputs": [],
   "source": [
    "f.close()\n",
    "plt.close()"
   ]
  }
 ],
 "metadata": {
  "kernelspec": {
   "display_name": "Python 3",
   "language": "python",
   "name": "python3"
  },
  "language_info": {
   "codemirror_mode": {
    "name": "ipython",
    "version": 3
   },
   "file_extension": ".py",
   "mimetype": "text/x-python",
   "name": "python",
   "nbconvert_exporter": "python",
   "pygments_lexer": "ipython3",
   "version": "3.6.5"
  }
 },
 "nbformat": 4,
 "nbformat_minor": 2
}
