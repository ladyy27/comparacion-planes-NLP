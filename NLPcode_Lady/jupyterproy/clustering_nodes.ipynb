{
 "cells": [
  {
   "cell_type": "code",
   "execution_count": 1,
   "metadata": {},
   "outputs": [
    {
     "name": "stdout",
     "output_type": "stream",
     "text": [
      "Importing Jupyter notebook from MySQL_connection.ipynb\n",
      "Importing Jupyter notebook from preprocessing.ipynb\n",
      "Importing Jupyter notebook from RDFmanagement.ipynb\n",
      "Importing Jupyter notebook from clustering2_methods.ipynb\n",
      "Importing Jupyter notebook from detect_es.ipynb\n"
     ]
    }
   ],
   "source": [
    "import codecs\n",
    "import pandas as pd\n",
    "import nbimporter\n",
    "from MySQL_connection import *\n",
    "from preprocessing import *\n",
    "from clustering2_methods import *\n",
    "from detect_es import *\n",
    "from sklearn.feature_extraction.text import TfidfVectorizer\n",
    "import string\n",
    "import math\n",
    "from sklearn.externals import joblib\n",
    "import matplotlib.pyplot as plt\n",
    "import scipy\n",
    "from scipy.cluster.hierarchy import ward, dendrogram, fcluster, to_tree\n",
    "from sklearn.cluster import KMeans, AgglomerativeClustering,AffinityPropagation\n",
    "from scipy.cluster.hierarchy import (\n",
    "    ClusterWarning, linkage, from_mlab_linkage, to_mlab_linkage,\n",
    "    num_obs_linkage, inconsistent, cophenet, fclusterdata, fcluster,\n",
    "    is_isomorphic, single, leaders, complete, weighted, centroid,\n",
    "    correspond, is_monotonic, maxdists, maxinconsts, maxRstat,\n",
    "    is_valid_linkage, is_valid_im, to_tree, leaves_list, dendrogram,\n",
    "    set_link_color_palette, cut_tree, _order_cluster_tree)"
   ]
  },
  {
   "cell_type": "code",
   "execution_count": 2,
   "metadata": {},
   "outputs": [
    {
     "name": "stdout",
     "output_type": "stream",
     "text": [
      "(0, 'PHYSICS FOR BIOMEDICAL SCIENCES')\n",
      "(1, 'INTEGRATED MEDICAL CLINIC: ONCOLOGY')\n",
      "(2, 'INTEGRATED CLINIC III CARDIOVASCULAR')\n",
      "(3, 'FUNCTIONAL MORPHOLOGY IV NEUROPHYSIOLOGY THEORY')\n",
      "(4, 'FUNCTIONAL MORPHOLOGY II ANATOMY THEORY')\n",
      "2\n",
      "612\n",
      "621\n",
      "630\n",
      "925\n"
     ]
    }
   ],
   "source": [
    "#Crear lista de materias\n",
    "lista_materias = []\n",
    "lista_carreras = []\n",
    "lista_ids_tabla = []\n",
    "lista_codigos = []\n",
    "asignaturas = ieee_select_query(\"SELECT id, p, o, o_en FROM planes WHERE p = 'asignatura' OR p = 'responsable' OR p = 'codigo' LIMIT 15\")\n",
    "\n",
    "for asig in asignaturas:\n",
    "    #print (asig['p'])\n",
    "    if asig['p'] == 'asignatura':\n",
    "        lista_materias.append(str(asig['o_en']))\n",
    "        lista_ids_tabla.append(asig['id'])\n",
    "    elif asig['p'] == 'responsable':\n",
    "        lista_carreras.append(asig['o'])\n",
    "    elif asig['p'] == 'codigo':\n",
    "        lista_codigos.append(asig['o'])\n",
    "\n",
    "for i in enumerate(lista_materias):\n",
    "    print (i)\n",
    "\n",
    "for i in lista_ids_tabla:\n",
    "    print (i)"
   ]
  },
  {
   "cell_type": "code",
   "execution_count": 3,
   "metadata": {},
   "outputs": [],
   "source": [
    "#Construir vectorizador, recibe como parámetro de entrada una funcion que toma los textos, extrae tokens y los lemas de cada token\n",
    "TfidfVec = TfidfVectorizer( encoding='utf-8', tokenizer=LemNormalize, stop_words='english', use_idf=True, analyzer='word', ngram_range=(1,1))\n",
    "#Entrenar los datos y obtener matriz TF-IDF\n",
    "matriz_tfidf = TfidfVec.fit_transform(lista_materias)"
   ]
  },
  {
   "cell_type": "code",
   "execution_count": 4,
   "metadata": {},
   "outputs": [],
   "source": [
    "matriz_distancias = (matriz_tfidf * matriz_tfidf.T).toarray()\n",
    "linkage_matrix = ward(matriz_distancias)"
   ]
  },
  {
   "cell_type": "code",
   "execution_count": 5,
   "metadata": {},
   "outputs": [
    {
     "name": "stdout",
     "output_type": "stream",
     "text": [
      "5 [3.         4.         0.71555964 2.        ]\n",
      "6 [1.         2.         0.85662353 2.        ]\n",
      "7 [0.         6.         1.62152289 3.        ]\n",
      "8 [5.         7.         1.99549357 5.        ]\n"
     ]
    }
   ],
   "source": [
    "#Ver como Ward va generando los clusters paso a paso\n",
    "id_cluster = len(lista_materias)\n",
    "for cluster in linkage_matrix:\n",
    "    print (id_cluster, cluster)\n",
    "    id_cluster +=1 "
   ]
  },
  {
   "cell_type": "code",
   "execution_count": 6,
   "metadata": {},
   "outputs": [
    {
     "data": {
      "image/png": "[encoded data removed]",
      "text/plain": [
       "<Figure size 1440x576 with 1 Axes>"
      ]
     },
     "metadata": {},
     "output_type": "display_data"
    }
   ],
   "source": [
    "#Imprimir clusters con los labels de las materias\n",
    "fig, ax = plt.subplots(figsize=(20,8)) # set size\n",
    "ax = dendrogram(linkage_matrix, labels=lista_materias, orientation=\"left\", distance_sort='ascending');\n",
    "\n",
    "plt.tick_params( \n",
    "    axis= 'x',          # changes apply to the x-axis\n",
    "    which='both',      # both major and minor ticks are affected\n",
    "    bottom=False,      # ticks along the bottom edge are off\n",
    "    top=False,         # ticks along the top edge are off\n",
    "    labelbottom=False,\n",
    "    grid_linewidth=50)\n",
    "\n",
    "plt.tight_layout() #show plot with tight layout\n",
    "#uncomment below to save figure\n",
    "plt.savefig('clusters_materias_english.png', dpi=200) #save figure as ward_clusters"
   ]
  },
  {
   "cell_type": "code",
   "execution_count": 7,
   "metadata": {},
   "outputs": [
    {
     "name": "stdout",
     "output_type": "stream",
     "text": [
      "1ra corrida - descendente\n",
      "8\n",
      "[3, 4, 0, 1, 2]\n",
      "------\n",
      "2da corrida - descendente - nodo izq\n",
      "5\n",
      "[3, 4]\n",
      "------\n",
      "3ra corrida - descendente - nodo izq T1\n",
      "3\n",
      "[3]\n",
      "3ra corrida - descendente - nodo der T1\n",
      "4\n",
      "[4]\n",
      "------\n",
      "2da corrida - descendente - nodo der\n",
      "7\n",
      "[0, 1, 2]\n",
      "3ra corrida - descendente - nodo izq T2\n",
      "0\n",
      "[0]\n",
      "3ra corrida - descendente - nodo der T2\n",
      "6\n",
      "[1, 2]\n"
     ]
    }
   ],
   "source": [
    "print (\"1ra corrida - descendente\")\n",
    "T = to_tree( linkage_matrix , rd=False )\n",
    "print (T.id)\n",
    "print (T.pre_order(lambda x: x.id))\n",
    "print ('------')\n",
    "print (\"2da corrida - descendente - nodo izq\")\n",
    "leftT1 = T.get_left()\n",
    "print (leftT1.id)\n",
    "print (leftT1.pre_order(lambda x: x.id))\n",
    "print ('------')\n",
    "print (\"3ra corrida - descendente - nodo izq T1\")\n",
    "leftT2 = leftT1.get_left()\n",
    "print (leftT2.id)\n",
    "print (leftT2.pre_order(lambda x: x.id))\n",
    "print (\"3ra corrida - descendente - nodo der T1\")\n",
    "rightT2 = leftT1.get_right()\n",
    "print (rightT2.id)\n",
    "print (rightT2.pre_order(lambda x: x.id))\n",
    "print ('------')\n",
    "print (\"2da corrida - descendente - nodo der\")\n",
    "rightT1 = T.get_right()\n",
    "print (rightT1.id)\n",
    "print (rightT1.pre_order(lambda x: x.id))\n",
    "print (\"3ra corrida - descendente - nodo izq T2\")\n",
    "leftT2_1 = rightT1.get_left()\n",
    "print (leftT2_1.id)\n",
    "print (leftT2_1.pre_order(lambda x: x.id))\n",
    "print (\"3ra corrida - descendente - nodo der T2\")\n",
    "rightT2_1 = rightT1.get_right()\n",
    "print (rightT2_1.id)\n",
    "print (rightT2_1.pre_order(lambda x: x.id))"
   ]
  },
  {
   "cell_type": "code",
   "execution_count": 10,
   "metadata": {},
   "outputs": [
    {
     "name": "stdout",
     "output_type": "stream",
     "text": [
      "{'nombre': 'root', 'hijo': [{'nodo': 8, 'dist': 2.0, 'hijo': [{'nodo': 5, 'dist': 0.72, 'hijo': [{'nodo': 3, 'dist': 0, 'hijo': []}, {'nodo': 4, 'dist': 0, 'hijo': []}]}, {'nodo': 7, 'dist': 1.62, 'hijo': [{'nodo': 0, 'dist': 0, 'hijo': []}, {'nodo': 6, 'dist': 0.86, 'hijo': [{'nodo': 1, 'dist': 0, 'hijo': []}, {'nodo': 2, 'dist': 0, 'hijo': []}]}]}]}]}\n"
     ]
    },
    {
     "data": {
      "text/plain": [
       "'\\nprint (T.count)\\nprint (T.dist)\\nprint (T.get_count())\\nprint (T.get_id())\\nprint (T.get_left())\\nprint (T.get_right())\\nprint (T.id)\\nprint (T.is_leaf())\\nprint (T.pre_order(lambda x: x.id))\\n'"
      ]
     },
     "execution_count": 10,
     "metadata": {},
     "output_type": "execute_result"
    }
   ],
   "source": [
    "\"\"\"\n",
    "T = to_tree( linkage_matrix , rd=False )\n",
    "if T.is_leaf() == False:\n",
    "    print (\"Es un cluster\")\n",
    "    if T.get_left() is not None:\n",
    "        print (\"Tiene un nodo hijo izq\")\n",
    "    else: print (\"No tiene un nodo hijo izq\")\n",
    "        \n",
    "else:\n",
    "    print (\"Es una observacion original\")\n",
    "\"\"\"\n",
    "    \n",
    "def add_node(node, padre):\n",
    "    # First create the new node and append it to its parent's children\n",
    "    newNode = dict(nodo=node.id, dist = round(node.dist, 2), hijo=[] )\n",
    "    #print (newNode)\n",
    "    padre['hijo'].append( newNode )\n",
    "    #print (padre)\n",
    "    # Recursively add the current node's children\n",
    "    if node.get_left() is not None: add_node( node.get_left(), newNode)\n",
    "    if node.get_right() is not None: add_node( node.get_right(), newNode)\n",
    "    return padre\n",
    "\n",
    "T = to_tree(linkage_matrix , rd=False )\n",
    "dend = dict(nombre=\"root\", hijo=[])\n",
    "tree = add_node( T, dend )\n",
    "print (tree)\n",
    "\n",
    "\n",
    "\"\"\"\n",
    "print (T.count)\n",
    "print (T.dist)\n",
    "print (T.get_count())\n",
    "print (T.get_id())\n",
    "print (T.get_left())\n",
    "print (T.get_right())\n",
    "print (T.id)\n",
    "print (T.is_leaf())\n",
    "print (T.pre_order(lambda x: x.id))\n",
    "\"\"\""
   ]
  },
  {
   "cell_type": "raw",
   "metadata": {},
   "source": [
    "#f.close()\n",
    "plt.close()"
   ]
  },
  {
   "cell_type": "code",
   "execution_count": null,
   "metadata": {},
   "outputs": [],
   "source": []
  }
 ],
 "metadata": {
  "kernelspec": {
   "display_name": "Python 3",
   "language": "python",
   "name": "python3"
  },
  "language_info": {
   "codemirror_mode": {
    "name": "ipython",
    "version": 3
   },
   "file_extension": ".py",
   "mimetype": "text/x-python",
   "name": "python",
   "nbconvert_exporter": "python",
   "pygments_lexer": "ipython3",
   "version": "3.6.5"
  }
 },
 "nbformat": 4,
 "nbformat_minor": 2
}
