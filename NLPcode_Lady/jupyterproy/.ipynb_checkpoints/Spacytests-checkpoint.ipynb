{
 "cells": [
  {
   "cell_type": "code",
   "execution_count": 1,
   "metadata": {},
   "outputs": [
    {
     "name": "stdout",
     "output_type": "stream",
     "text": [
      "Importing Jupyter notebook from preprocessing.ipynb\n"
     ]
    }
   ],
   "source": [
    "import nbimporter\n",
    "import spacy\n",
    "from preprocessing import *"
   ]
  },
  {
   "cell_type": "code",
   "execution_count": 2,
   "metadata": {},
   "outputs": [],
   "source": [
    "nlp = spacy.load('es')"
   ]
  },
  {
   "cell_type": "code",
   "execution_count": 3,
   "metadata": {},
   "outputs": [],
   "source": [
    "doc = nlp(\"La Universidad Técnica Particular de Loja, ubicada al sur del Ecuador. Mañana iremos a Irlanda\")"
   ]
  },
  {
   "cell_type": "code",
   "execution_count": 4,
   "metadata": {
    "scrolled": true
   },
   "outputs": [
    {
     "name": "stdout",
     "output_type": "stream",
     "text": [
      "La La DET__Definite=Def|Gender=Fem|Number=Sing|PronType=Art False\n",
      "Universidad Universidad PROPN___ False\n",
      "Técnica Técnica PROPN___ False\n",
      "Particular Particular PROPN___ False\n",
      "de de ADP__AdpType=Prep True\n",
      "Loja Loja PROPN___ False\n",
      ", , PUNCT__PunctType=Comm False\n",
      "ubicada ubicar ADJ__Gender=Fem|Number=Sing|VerbForm=Part False\n",
      "al al ADP__AdpType=Preppron|Gender=Masc|Number=Sing True\n",
      "sur sur NOUN__Gender=Masc|Number=Sing False\n",
      "del del ADP__AdpType=Preppron|Gender=Masc|Number=Sing True\n",
      "Ecuador Ecuador PROPN___ False\n"
     ]
    }
   ],
   "source": [
    "#doc.ents = add_ner(doc, 1, 6)\n",
    "for sent in doc.sents:\n",
    "    for token in doc:\n",
    "    #print (token)\n",
    "    print(token.text, token.lemma_, token.tag_,token.is_stop)"
   ]
  },
  {
   "cell_type": "code",
   "execution_count": 5,
   "metadata": {},
   "outputs": [
    {
     "name": "stdout",
     "output_type": "stream",
     "text": [
      "Universidad Técnica Particular de Loja 3 41 ORG\n",
      "Ecuador 62 69 LOC\n"
     ]
    }
   ],
   "source": [
    "for ent in doc.ents:\n",
    "    print(ent.text, ent.start_char, ent.end_char, ent.label_)"
   ]
  }
 ],
 "metadata": {
  "kernelspec": {
   "display_name": "Python 3",
   "language": "python",
   "name": "python3"
  },
  "language_info": {
   "codemirror_mode": {
    "name": "ipython",
    "version": 3
   },
   "file_extension": ".py",
   "mimetype": "text/x-python",
   "name": "python",
   "nbconvert_exporter": "python",
   "pygments_lexer": "ipython3",
   "version": "3.5.2"
  }
 },
 "nbformat": 4,
 "nbformat_minor": 2
}
