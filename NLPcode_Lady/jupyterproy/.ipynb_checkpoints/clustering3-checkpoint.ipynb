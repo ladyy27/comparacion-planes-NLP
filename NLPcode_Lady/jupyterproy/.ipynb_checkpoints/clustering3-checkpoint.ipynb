{
 "cells": [
  {
   "cell_type": "code",
   "execution_count": 31,
   "metadata": {},
   "outputs": [],
   "source": [
    "import codecs\n",
    "import pandas as pd\n",
    "import nbimporter\n",
    "from MySQL_connection import *\n",
    "from preprocessing import *\n",
    "from clustering2_methods import *\n",
    "from detect_es import *\n",
    "from sklearn.feature_extraction.text import TfidfVectorizer\n",
    "import string\n",
    "import math\n",
    "from sklearn.externals import joblib\n",
    "import matplotlib.pyplot as plt\n",
    "import scipy\n",
    "from scipy.cluster.hierarchy import ward, dendrogram, fcluster, to_tree\n",
    "from sklearn.cluster import KMeans, AgglomerativeClustering,AffinityPropagation"
   ]
  },
  {
   "cell_type": "code",
   "execution_count": null,
   "metadata": {},
   "outputs": [],
   "source": [
    "#Crear lista de materias\n",
    "lista_materias = []\n",
    "lista_carreras = []\n",
    "lista_ids_tabla = []\n",
    "lista_codigos = []\n",
    "asignaturas = ieee_select_query(\"SELECT id, p, o, o_en FROM planes WHERE p = 'asignatura' OR p = 'responsable' OR p = 'codigo'\")\n",
    "\n",
    "for asig in asignaturas:\n",
    "    #print (asig['p'])\n",
    "    if asig['p'] == 'asignatura':\n",
    "        lista_materias.append(str(asig['o_en']))\n",
    "        lista_ids_tabla.append(asig['id'])\n",
    "    elif asig['p'] == 'responsable':\n",
    "        lista_carreras.append(asig['o'])\n",
    "    elif asig['p'] == 'codigo':\n",
    "        lista_codigos.append(asig['o'])\n",
    "\n",
    "print(len (lista_codigos))\n",
    "#for i in enumerate (lista_materias):\n",
    "#    print (i)"
   ]
  },
  {
   "cell_type": "code",
   "execution_count": null,
   "metadata": {},
   "outputs": [],
   "source": [
    "#Construir vectorizador, recibe como parámetro de entrada una funcion que toma los textos, extrae tokens y los lemas de cada token\n",
    "TfidfVec = TfidfVectorizer( encoding='utf-8', tokenizer=LemNormalize, stop_words='english', use_idf=True, analyzer='word', ngram_range=(1,1))\n",
    "#Entrenar los datos y obtener matriz TF-IDF\n",
    "matriz_tfidf = TfidfVec.fit_transform(lista_materias)"
   ]
  },
  {
   "cell_type": "code",
   "execution_count": null,
   "metadata": {},
   "outputs": [],
   "source": [
    "#print (TfidfVec.get_feature_names())\n",
    "x_fit=pd.DataFrame(matriz_tfidf.toarray(), columns=TfidfVec.get_feature_names())\n",
    "x_fit.to_csv(\"files/matrizTFIDF_english.csv\")"
   ]
  },
  {
   "cell_type": "code",
   "execution_count": null,
   "metadata": {},
   "outputs": [],
   "source": [
    "#Similitud del coseno: Sacar las distancias entre vectores de palabras, multiplicar la matriz TF-IDF por su transversa\n",
    "matriz_distancias = (matriz_tfidf * matriz_tfidf.T).toarray()\n",
    "#for a in matriz_distancias:\n",
    "    #print (a)"
   ]
  },
  {
   "cell_type": "code",
   "execution_count": null,
   "metadata": {},
   "outputs": [],
   "source": [
    "#Matriz de algoritmo jerarquico\n",
    "linkage_matrix = ward(matriz_distancias) #define the linkage_matrix using ward clustering pre-computed distances\n",
    "#print (linkage_matrix)"
   ]
  },
  {
   "cell_type": "code",
   "execution_count": null,
   "metadata": {},
   "outputs": [],
   "source": [
    "#Ver como Ward va generando los clusters paso a paso\n",
    "id_cluster = len(lista_materias)\n",
    "for cluster in linkage_matrix:\n",
    "    print (id_cluster, cluster)\n",
    "    id_cluster +=1 "
   ]
  },
  {
   "cell_type": "code",
   "execution_count": null,
   "metadata": {},
   "outputs": [],
   "source": [
    "#Imprimir clusters con los labels de las materias\n",
    "fig, ax = plt.subplots(figsize=(20,80)) # set size\n",
    "ax = dendrogram(linkage_matrix, labels=lista_materias, orientation=\"left\", distance_sort='ascending');\n",
    "\n",
    "plt.tick_params( \n",
    "    axis= 'x',          # changes apply to the x-axis\n",
    "    which='both',      # both major and minor ticks are affected\n",
    "    bottom=False,      # ticks along the bottom edge are off\n",
    "    top=False,         # ticks along the top edge are off\n",
    "    labelbottom=False,\n",
    "    grid_linewidth=50)\n",
    "\n",
    "plt.tight_layout() #show plot with tight layout\n",
    "#uncomment below to save figure\n",
    "plt.savefig('clusters_materias_english.png', dpi=200) #save figure as ward_clusters"
   ]
  },
  {
   "cell_type": "code",
   "execution_count": 29,
   "metadata": {},
   "outputs": [
    {
     "data": {
      "text/plain": [
       "'\\nfor n in range(len(lista_materias)):\\n    print (lista_c[n], lista_materias[n])\\n'"
      ]
     },
     "execution_count": 29,
     "metadata": {},
     "output_type": "execute_result"
    }
   ],
   "source": [
    "clusters = fcluster(linkage_matrix, 0.95)\n",
    "lista_c = list(clusters)\n",
    "\"\"\"\n",
    "for n in range(len(lista_materias)):\n",
    "    print (lista_c[n], lista_materias[n])\n",
    "\"\"\""
   ]
  },
  {
   "cell_type": "code",
   "execution_count": 56,
   "metadata": {},
   "outputs": [
    {
     "name": "stdout",
     "output_type": "stream",
     "text": [
      "[1280, 1156, 1120, 1098, 933, 921, 851, 819, 799, 771, 760, 723, 589, 461, 422, 158, 94, 125, 1236, 1224, 1209, 1107, 1056, 1042, 965, 883, 855, 558, 547, 527, 196, 204, 1261, 1160, 1077, 824, 742, 595, 459, 456, 397, 272, 242, 163, 149, 118, 91, 97, 1248, 1197, 1038, 964, 891, 557, 541, 531, 378, 355, 280, 194, 214, 1265, 1155, 1094, 581, 465, 451, 418, 238, 180, 116, 145, 1199, 1033, 877, 530, 435, 386, 358, 318, 278, 198, 203, 1275, 1149, 1135, 1084, 916, 789, 782, 413, 611, 1208, 1109, 1054, 1036, 963, 895, 867, 519, 360, 233, 277, 1085, 910, 156, 792, 1057, 1028, 1023, 972, 896, 744, 573, 538, 375, 339, 222, 86, 102, 831, 756, 262, 253, 168, 106, 140, 1232, 887, 215, 542, 934, 913, 825, 797, 171, 267, 1227, 901, 205, 552, 154, 828, 1247, 1228, 1021, 937, 763, 728, 74, 334, 1269, 1153, 1129, 184, 579, 1205, 522, 1104, 1192, 425, 512, 1289, 597, 463, 317, 449, 426, 328, 1009, 475, 1143, 269, 1145, 1139, 1099, 1048, 1026, 948, 853, 471, 415, 368, 349, 295, 235, 115, 181, 1244, 1194, 870, 571, 514, 201, 427, 1142, 1086, 1043, 953, 923, 846, 823, 784, 473, 420, 364, 348, 296, 254, 236, 122, 151, 563, 1239, 1111, 193, 866, 504, 309, 994, 324, 986, 105, 753, 1292, 745, 93, 586, 1271, 739, 76, 580, 346, 1017, 486, 1173, 489, 1179, 5, 660, 31, 670, 4, 698, 41, 692, 29, 705, 70, 703, 7, 667, 18, 699, 3, 654, 69, 653, 12, 712, 62, 685, 11, 679, 21, 687, 35, 686, 58, 666, 6, 696, 590, 1285, 1249, 843, 840, 534, 469, 104, 162, 1225, 1170, 987, 906, 852, 847, 826, 747, 568, 447, 126, 256, 1298, 717, 48, 643, 822, 757, 570, 479, 165, 271, 1126, 247, 829, 250, 1110, 1044, 1124, 1243, 174, 260, 357, 1037, 150, 809, 14, 1302, 850, 1171, 356, 1049, 794, 462, 160, 457, 148, 1074, 1112, 672, 325, 985, 502, 1172, 491, 1174, 497, 1184, 507, 1187, 978, 508, 1166, 183, 841, 310, 65, 509, 1176, 43, 690, 683, 25, 682, 665, 40, 708, 484, 1185, 39, 15, 716, 1240, 1214, 941, 820, 565, 470, 182, 450, 1252, 560, 936, 1182, 133, 574, 572, 1246, 1254, 1157, 561, 543, 273, 17, 167, 1310, 1279, 28, 678, 1131, 144, 638, 598, 1276, 458, 956, 96, 306, 63, 664, 24, 715, 945, 1293, 293, 373, 1245, 1226, 924, 838, 152, 837, 1234, 935, 832, 545, 466, 209, 407, 1162, 642, 329, 495, 0, 704, 585, 807, 646, 241, 438, 445, 1127, 1100, 920, 510, 316, 401, 594, 1288, 332, 639, 814, 562, 255, 476, 549, 1218, 1223, 939, 569, 835, 10, 707, 1216, 546, 845, 553, 550, 555, 655, 656, 658, 66, 67, 2, 46, 701, 659, 688, 702, 37, 668, 36, 697, 56, 1, 45, 27, 26, 652, 1237, 155, 263, 1233, 259, 815, 359, 1045, 576, 173, 268, 178, 1154, 265, 1256, 577, 857, 990, 732, 737, 83, 92, 743, 77, 721, 724, 84, 85, 75, 720, 78, 88, 740, 741, 81, 79, 734, 87, 736, 117, 727, 537, 695, 1201, 517, 1196, 525, 1188, 1193, 872, 902, 208, 513, 185, 1161, 175, 482, 675, 176, 481, 848, 1159, 287, 957, 283, 1312, 353, 805, 372, 1041, 544, 1241, 539, 157, 261, 406, 1088, 423, 1081, 520, 556, 528, 532, 179, 207, 518, 1202, 1215, 1230, 951, 1287, 578, 240, 430, 437, 440, 442, 584, 1283, 992, 644, 1117, 103, 112, 109, 651, 755, 750, 390, 1055, 751, 107, 100, 748, 759, 752, 108, 111, 1200, 529, 1204, 523, 516, 212, 663, 455, 882, 400, 885, 533, 228, 511, 42, 1122, 971, 239, 424, 521, 218, 123, 199, 1206, 446, 524, 962, 135, 374, 1031, 304, 428, 1115, 68, 441, 1128, 930, 1175, 443, 1164, 1319, 1136, 997, 454, 496, 403, 1163, 754, 1251, 833, 266, 130, 191, 1148, 785, 854, 862, 361, 1051, 868, 1324, 776, 863, 131, 342, 783, 773, 856, 889, 192, 1325, 1020, 1212, 733, 1222, 506, 1019, 800, 289, 1318, 600, 1290, 138, 282, 1315, 281, 969, 146, 796, 947, 284, 1029, 366, 946, 1035, 952, 897, 421, 141, 298, 772, 777, 129, 189, 786, 80, 689, 249, 1001, 1095, 54, 710, 114, 864, 365, 1034, 142, 1311, 1260, 352, 587, 326, 983, 980, 302, 1317, 323, 301, 313, 806, 147, 1308, 614, 620, 1299, 616, 1306, 1304, 615, 1297, 618, 392, 1061, 623, 1296, 879, 1301, 13, 650, 617, 1303, 419, 1082, 480, 101, 388, 22, 1137, 370, 1046, 950, 955, 836, 121, 774, 634, 894, 299, 380, 448, 291, 970, 909, 886, 1147, 292, 369, 1305, 1316, 640, 1231, 1133, 237, 434, 892, 216, 680, 858, 871, 1010, 1165, 137, 410, 333, 1080, 1168, 768, 1180, 1177, 878, 1014, 377, 90, 1052, 362, 966, 227, 899, 625, 626, 635, 1068, 387, 382, 379, 1069, 393, 1059, 391, 1066, 1067, 383, 1060, 515, 1189, 1207, 1210, 229, 874, 880, 294, 954, 376, 949, 1219, 548, 927, 629, 627, 630, 1073, 384, 1071, 385, 865, 119, 636, 791, 959, 1314, 396, 1093, 219, 300, 1058, 72, 432, 307, 559, 331, 1183, 1121, 1167, 505, 206, 503, 487, 647, 494, 1012, 60, 500, 226, 231, 1125, 1092, 224, 394, 919, 1106, 453, 248, 431, 314, 395, 315, 322, 984, 1101, 915, 1089, 345, 1097, 409, 888, 367, 1032, 593, 1291, 354, 1039, 661, 812, 136, 132, 787, 798, 808, 1006, 251, 905, 439, 596, 1105, 1118, 19, 677, 492, 499, 498, 645, 1018, 726, 861, 320, 765, 735, 709, 746, 243, 1114, 1300, 452, 1132, 830, 444, 1123, 1130, 347, 1070, 1062, 1146, 460, 1064, 51, 844, 526, 186, 477, 928, 943, 731, 337, 641, 911, 907, 1116, 591, 1294, 1309, 139, 371, 1242, 153, 270, 490, 1007, 1015, 1326, 564, 1250, 821, 257, 834, 719, 671, 711, 343, 621, 64, 20, 38, 795, 1040, 790, 134, 143, 416, 412, 1087, 33, 849, 764, 99, 662, 632, 607, 1259, 769, 472, 1195, 700, 669, 718, 1284, 619, 788, 730, 770, 120, 725, 738, 993, 989, 995, 1151, 478, 1141, 23, 657, 252, 674, 1005, 583, 1277, 221, 944, 501, 1186, 47, 188, 59, 1169, 417, 398, 1090, 363, 1050, 582, 1273, 246, 433, 71, 761, 1138, 613, 1281, 875, 1321, 187, 775, 127, 197, 859, 1322, 604, 1286, 285, 968, 225, 881, 467, 811, 159, 264, 485, 245, 338, 89, 722, 124, 893, 341, 305, 977, 303, 991, 1030, 1295, 44, 55, 202, 631, 411, 1079, 914, 999, 200, 1024, 474, 53, 1144, 177, 1013, 330, 483, 213, 381, 350, 344, 1011, 312, 975, 308, 976, 917, 98, 95, 336, 50, 82, 780, 973, 1065, 1072, 389, 681, 1320, 1108, 779, 869, 676, 813, 1000, 628, 321, 128, 1267, 998, 1016, 1004, 1025, 1002, 988, 903, 288, 633, 996, 1003, 113, 1152, 335, 729, 958, 960, 340, 758, 981, 554, 860, 210, 624, 34, 110, 1078, 802, 884, 311, 637, 931, 327, 714, 195, 1323, 52, 1053, 468, 766, 974, 979, 405, 762, 217, 898, 842, 169, 925, 817, 161, 803, 1063, 1113, 1220, 351, 1047, 73, 220, 57, 694, 648, 982, 49, 673, 781, 1181, 566, 816, 535, 904, 599, 804, 1211, 1022, 567, 493, 402, 319, 275, 170, 244, 436, 1096, 1103, 540, 876, 1238, 1217, 1150, 932, 839, 172, 230, 223, 1008, 890, 429, 234, 912, 926, 464, 827, 1235, 1213, 1140, 929, 706, 9, 164, 1134, 1178, 1027, 778, 793, 818, 190, 258, 1221, 810, 274, 575, 1253, 1158, 940, 693, 551, 32, 166, 942, 488, 8, 938, 603, 1258, 908, 1102, 649, 30, 622, 918, 1327, 605, 1266, 609, 1262, 1313, 1307, 1278, 276, 602, 1272, 967, 691, 610, 61, 286, 1268, 961, 279, 601, 592, 1270, 588, 1257, 297, 922, 1282, 801, 684, 16, 612, 606, 1264, 1263, 608, 713, 408, 1091, 404, 1075, 900, 1190, 414, 1083, 1229, 290, 1255, 232, 1198, 1203, 873, 1191, 536, 1076, 767, 749, 211, 399, 1119, 1274]\n"
     ]
    }
   ],
   "source": [
    "root, node_list = to_tree(linkage_matrix, rd = True)\n",
    "print (root.get_id())\n",
    "\"\"\"\n",
    "ids = root.pre_order(lambda x: x.id)\n",
    "print (ids)\n",
    "\"\"\""
   ]
  },
  {
   "cell_type": "code",
   "execution_count": 30,
   "metadata": {},
   "outputs": [],
   "source": [
    "hierarchical_clustering = pd.DataFrame({ \n",
    "        'id_materia': lista_ids_tabla,\n",
    "        'codigo': lista_codigos,\n",
    "        'metodo': 'HIERARCHY',\n",
    "        'cluster': lista_c,\n",
    "        'asignatura': lista_materias,\n",
    "        'titulacion': lista_carreras}, columns=['id_materia','codigo', 'metodo','cluster', 'asignatura', 'titulacion'])\n",
    "hierarchical_clustering.to_csv(\"files/clustering_matrix_fcluster_english_95.csv\")"
   ]
  },
  {
   "cell_type": "code",
   "execution_count": null,
   "metadata": {},
   "outputs": [],
   "source": [
    "lengg = len (lista_materias)\n",
    "f = codecs.open(\"files/clustering_titles_english.sql\",\"wb\",encoding=\"UTF-8\")\n",
    "f.write (\"DROP TABLE IF EXISTS clustering_titles; \" + \n",
    "\"CREATE TABLE clustering_titles (\" +\n",
    "\"id int(11) unsigned NOT NULL AUTO_INCREMENT,\" +\n",
    "  \"id_materia int(11) unsigned NOT NULL,\" +\n",
    "  \"codigo varchar(200) NOT NULL DEFAULT '',\" +\n",
    "  \"metodo varchar(200) NOT NULL DEFAULT '', \"+\n",
    "  \"cluster int(11) unsigned NOT NULL, \"+\n",
    "  \"asignatura varchar(200) NOT NULL DEFAULT '', \"+\n",
    "  \"titulacion varchar(200) NOT NULL DEFAULT '', \"+\n",
    "  \"PRIMARY KEY (id) \"+\n",
    "\") ENGINE=InnoDB DEFAULT CHARSET=utf8;\\n\") \n",
    "         \n",
    "for it in range(len(lista_materias)):\n",
    "    print (\"Gua \" + str(it) + \" de \" + str(lengg))\n",
    "    idmateria = lista_ids_tabla[it]\n",
    "    codigo = lista_codigos[it]\n",
    "    cluster_h = lista_c[it]\n",
    "    cluster_ap = clusters[it]\n",
    "    asignatura= lista_materias[it]\n",
    "    titulacion = lista_carrera[it]\n",
    "    #if (cluster_h):\n",
    "    f.write('INSERT into clustering_titles (id_materia, codigo, metodo, cluster, asignatura, titulacion) values (%s, %s,%s, %s, %s, %s)' % (idmateria, '\"' + codigo + '\"','\"' + \"HIERARCHY\" + '\"', cluster_h,'\"' + asignatura + '\"','\"' + titulacion + '\"' ) + ';\\n')\n",
    "    #elif (cluster_ap):\n",
    "    f.write('INSERT into clustering_titles (id_materia, codigo, metodo, cluster, asignatura, titulacion) values (%s, %s,%s, %s, %s, %s)' % (idmateria, '\"' + codigo + '\"','\"' + \"AFFINITY-PROPAGATION\" + '\"', cluster_ap,'\"' + asignatura + '\"','\"' + titulacion + '\"' ) + ';\\n')"
   ]
  },
  {
   "cell_type": "code",
   "execution_count": null,
   "metadata": {},
   "outputs": [],
   "source": [
    "f.close()\n",
    "plt.close()"
   ]
  }
 ],
 "metadata": {
  "kernelspec": {
   "display_name": "Python 3",
   "language": "python",
   "name": "python3"
  },
  "language_info": {
   "codemirror_mode": {
    "name": "ipython",
    "version": 3
   },
   "file_extension": ".py",
   "mimetype": "text/x-python",
   "name": "python",
   "nbconvert_exporter": "python",
   "pygments_lexer": "ipython3",
   "version": "3.6.5"
  }
 },
 "nbformat": 4,
 "nbformat_minor": 2
}
