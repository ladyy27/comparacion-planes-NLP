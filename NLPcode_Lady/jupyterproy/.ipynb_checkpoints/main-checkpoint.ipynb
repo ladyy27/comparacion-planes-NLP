{
 "cells": [
  {
   "cell_type": "code",
   "execution_count": 1,
   "metadata": {},
   "outputs": [
    {
     "name": "stdout",
     "output_type": "stream",
     "text": [
      "Importing Jupyter notebook from MySQL_connection.ipynb\n",
      "Importing Jupyter notebook from preprocessing.ipynb\n",
      "Importing Jupyter notebook from RDFmanagement.ipynb\n"
     ]
    }
   ],
   "source": [
    "import nbimporter\n",
    "import spacy\n",
    "from textblob import TextBlob\n",
    "from MySQL_connection import *\n",
    "#from detect_en import *\n",
    "#from detect_es import *\n",
    "#from detect_fr import *\n",
    "from preprocessing import *\n",
    "from RDFmanagement import *\n",
    "from rdflib import Graph, Literal, BNode, Namespace, RDF,RDFS, URIRef\n",
    "#from textblob import TextBlob"
   ]
  },
  {
   "cell_type": "code",
   "execution_count": 2,
   "metadata": {},
   "outputs": [],
   "source": [
    "# RDF: Seteando propiedades y clases\n",
    "vutplSchema = Namespace('http://data.utpl.edu.ec/vutpl/vocabulary/')\n",
    "vutplResource = Namespace('http://data.utpl.edu.ec/vutpl/resource/')\n",
    "\n",
    "sentencetype = URIRef(vutplSchema+'Sentence')\n",
    "tokentype = URIRef(vutplSchema+'Token')\n",
    "roltype = URIRef(vutplSchema+'Rol')\n",
    "chunktype = URIRef(vutplSchema+'Chunk')\n",
    "dependencytype = URIRef(vutplSchema+'Dependency')\n",
    "postagtype = URIRef(vutplSchema+'PosTag')\n",
    "entitytype = URIRef(vutplSchema+'Entity')\n",
    "\n",
    "#Definir Clases\n",
    "grade = URIRef(vutplSchema+'Grade/')\n",
    "subject = URIRef(vutplSchema+'Subject/')\n",
    "plan = URIRef(vutplSchema+'TeachingPlan/')\n",
    "section = URIRef(vutplSchema+'Section/')\n",
    "sentence = URIRef(vutplResource+'Sentence/')\n",
    "tokenURI= URIRef(vutplResource+'Token/')\n",
    "rol = URIRef(vutplResource+'Rol/')\n",
    "chunk = URIRef(vutplResource+'Chunk/')\n",
    "dependency = URIRef(vutplResource+'Dependency/')\n",
    "postag = URIRef(vutplResource+'PosTag/')\n",
    "entity = URIRef(vutplResource+'Entity/')\n",
    "\n",
    "#Definir Propiedades\n",
    "hasSubject = URIRef(vutplSchema+'hasSubject')\n",
    "hasTeachingPlan = URIRef(vutplSchema+'hasTeachingPlan')\n",
    "hasSection = URIRef(vutplSchema+'hasSection')\n",
    "hasSentence = URIRef(vutplSchema+'hasSentence')\n",
    "sentenceId = URIRef(vutplSchema+'sentenceId')\n",
    "dataSentence = URIRef(vutplSchema+'dataSentence')\n",
    "hasToken= URIRef(vutplSchema+'hasToken')\n",
    "pnp = URIRef(vutplSchema+'pnp')\n",
    "tokenId = URIRef(vutplSchema+'tokenId')\n",
    "pos = URIRef(vutplSchema+'pos')\n",
    "data = URIRef(vutplSchema+'data')\n",
    "ner = URIRef(vutplSchema+'ner')\n",
    "nertype = URIRef(vutplSchema+'nertype')\n",
    "lemma = URIRef(vutplSchema+'lemma')\n",
    "hasRole = URIRef(vutplSchema+'hasRole')\n",
    "hasChunk = URIRef(vutplSchema+'hasChunk')"
   ]
  },
  {
   "cell_type": "code",
   "execution_count": 3,
   "metadata": {},
   "outputs": [
    {
     "data": {
      "text/plain": [
       "<pymysql.connections.Connection at 0x7f38ca4a0cc0>"
      ]
     },
     "execution_count": 3,
     "metadata": {},
     "output_type": "execute_result"
    }
   ],
   "source": [
    "#Setear conexion a MYSQL\n",
    "set_connectionMySQL()"
   ]
  },
  {
   "cell_type": "code",
   "execution_count": 4,
   "metadata": {},
   "outputs": [],
   "source": [
    "#Capturar listas de stopwords\n",
    "es_stopwords= stopwordsList(\"stopwords/spanish\")\n",
    "fr_stopwords= stopwordsList(\"stopwords/french\")\n",
    "en_stopwords= stopwordsList(\"stopwords/english\")\n",
    "punt_stopwords= stopwordsList(\"stopwords/puntuacion\")"
   ]
  },
  {
   "cell_type": "code",
   "execution_count": 5,
   "metadata": {},
   "outputs": [],
   "source": [
    "#Variables de idioma\n",
    "lang_es = \"es\"\n",
    "lang_en = \"en\"\n",
    "lang_fr = \"fr\""
   ]
  },
  {
   "cell_type": "code",
   "execution_count": 6,
   "metadata": {},
   "outputs": [],
   "source": [
    "#RDF: Definir grafo\n",
    "graph = create_graph()"
   ]
  },
  {
   "cell_type": "code",
   "execution_count": 7,
   "metadata": {},
   "outputs": [
    {
     "name": "stdout",
     "output_type": "stream",
     "text": [
      "{'Id': 1, 'CAST(CONVERT(Concept USING utf8) AS binary)': b'Aerospace and electronic systems '}\n",
      "<class 'dict'>\n"
     ]
    }
   ],
   "source": [
    "#Capturar el resultado de una consulta SQL\n",
    "resultados = ieee_select_query()\n",
    "for r in resultados:\n",
    "    print (r)\n",
    "    print (type(r))"
   ]
  },
  {
   "cell_type": "code",
   "execution_count": 8,
   "metadata": {},
   "outputs": [],
   "source": [
    "nlp = spacy.load('en')"
   ]
  },
  {
   "cell_type": "code",
   "execution_count": 9,
   "metadata": {},
   "outputs": [],
   "source": [
    "#Capturar conceptos, procesamiento NLP y generar tripletas\n",
    "idsentence = 1\n",
    "idtoken = 1\n",
    "\n",
    "for fila in resultados:\n",
    "    concept = str(fila['CAST(CONVERT(Concept USING utf8) AS binary)'])\n",
    "    sentenceNode = add_node(sentence + \"Sentence\" + str (idsentence))\n",
    "    add_graph(graph, sentenceNode, RDF.type, sentencetype)\n",
    "    add_graph(graph, sentenceNode, sentenceId, Literal(idsentence, lang=\"es\"))\n",
    "    add_graph(graph, sentenceNode, dataSentence, Literal(concept, lang=\"es\"))\n",
    "    \n",
    "    #Reemplazar tilde en textos en espaniol\n",
    "    conceptSinTildes = replace_tildes(concept)\n",
    "    text_object= TextBlob(conceptSinTildes)\n",
    "    text_str = str(text_object)\n",
    "\n",
    "    if text_object.detect_language() == lang_en:\n",
    "        doc = nlp(text_str)\n",
    "        for sent in doc.sents:\n",
    "            for token in sent:\n",
    "                if token.lemma_ not in en_stopwords:\n",
    "                    if token.lemma_ not in punt_stopwords:\n",
    "                        #tokenNode = add_node(tokenURI+\"Token\" + str(idtoken) + \"_Sentence\" + str(idsentence))\n",
    "                        #add_graph(graph, tokenNode, RDF.type, tokentype)\n",
    "                        #add_graph(graph, sentenceNode, hasToken, URIRef(tokenNode))\n",
    "                        #add_graph(graph, tokenNode, tokenId, Literal(idtoken, lang=\"en\"))\n",
    "                        #posTagNode = add_node(postag + token.pos_)\n",
    "                        #add_graph(graph, posTagNode, RDF.type, postagtype)\n",
    "                        #add_graph(graph, posTagNode, RDFS.label, Literal(token.pos_, lang=\"en\"))\n",
    "                        #add_graph(graph, tokenNode, pos, posTagNode)\n",
    "                        #add_graph(graph, tokenNode, RDFS.label, Literal(token.pos_, lang=\"en\"))\n",
    "                        #add_graph(graph, tokenNode, data, Literal(token.text, lang=\"en\"))\n",
    "                        #add_graph(graph, tokenNode, lemma, Literal(token.lemma_, lang=\"en\"))\n",
    "                        #print(token.text, token.lemma_, token.pos_,token.is_stop)\n",
    "                        idtoken += 1\n",
    "            idtoken = 1\n",
    "            idsentence += 1\n",
    "            \n",
    "        for ent in doc.ents:\n",
    "            entityNode = add_node(entity + ent.label_)\n",
    "            add_graph(graph, entityNode, RDF.type, entitytype)\n",
    "            add_graph(graph, entityNode, RDFS.label, Literal(ent.label_, lang=\"en\"))\n",
    "            add_graph(graph, sentenceNode, ner, Literal(ent.text, lang=\"en\"))\n",
    "            add_graph(graph, sentenceNode, nertype, entityNode)\n",
    "            #print(ent.text, ent.start_char, ent.end_char, ent.label_)\n",
    "    else:\n",
    "        print (\"idioma no detectado\")"
   ]
  },
  {
   "cell_type": "code",
   "execution_count": 10,
   "metadata": {},
   "outputs": [
    {
     "name": "stdout",
     "output_type": "stream",
     "text": [
      "Guardando 1 de 6\n",
      "(rdflib.term.BNode('http://data.utpl.edu.ec/vutpl/resource/Token/Token3_Sentence1'), rdflib.term.URIRef('http://data.utpl.edu.ec/vutpl/vocabulary/data'), rdflib.term.Literal('systems', lang='en'))\n",
      "Guardando 2 de 6\n",
      "(rdflib.term.BNode('http://data.utpl.edu.ec/vutpl/resource/Token/Token2_Sentence1'), rdflib.term.URIRef('http://data.utpl.edu.ec/vutpl/vocabulary/data'), rdflib.term.Literal('electronic', lang='en'))\n",
      "Guardando 3 de 6\n",
      "(rdflib.term.BNode('http://data.utpl.edu.ec/vutpl/resource/Sentence/Sentence1'), rdflib.term.URIRef('http://www.w3.org/1999/02/22-rdf-syntax-ns#type'), rdflib.term.URIRef('http://data.utpl.edu.ec/vutpl/vocabulary/Sentence'))\n",
      "Guardando 4 de 6\n",
      "(rdflib.term.BNode('http://data.utpl.edu.ec/vutpl/resource/Token/Token1_Sentence1'), rdflib.term.URIRef('http://data.utpl.edu.ec/vutpl/vocabulary/data'), rdflib.term.Literal(\"b'Aerospace\", lang='en'))\n",
      "Guardando 5 de 6\n",
      "(rdflib.term.BNode('http://data.utpl.edu.ec/vutpl/resource/Sentence/Sentence1'), rdflib.term.URIRef('http://data.utpl.edu.ec/vutpl/vocabulary/sentenceId'), rdflib.term.Literal('1', datatype=rdflib.term.URIRef('http://www.w3.org/2001/XMLSchema#integer')))\n",
      "Guardando 6 de 6\n",
      "(rdflib.term.BNode('http://data.utpl.edu.ec/vutpl/resource/Sentence/Sentence1'), rdflib.term.URIRef('http://data.utpl.edu.ec/vutpl/vocabulary/dataSentence'), rdflib.term.Literal(\"b'Aerospace and electronic systems '\", lang='es'))\n"
     ]
    }
   ],
   "source": [
    "#Guardar todas las tripletas en un archivo SQL\n",
    "storeTriplesDBfile(graph)"
   ]
  },
  {
   "cell_type": "code",
   "execution_count": 11,
   "metadata": {},
   "outputs": [],
   "source": [
    "#Cerrar conexion de MYSQL\n",
    "close_connectionMySQL()"
   ]
  }
 ],
 "metadata": {
  "kernelspec": {
   "display_name": "Python 3",
   "language": "python",
   "name": "python3"
  },
  "language_info": {
   "codemirror_mode": {
    "name": "ipython",
    "version": 3
   },
   "file_extension": ".py",
   "mimetype": "text/x-python",
   "name": "python",
   "nbconvert_exporter": "python",
   "pygments_lexer": "ipython3",
   "version": "3.5.2"
  }
 },
 "nbformat": 4,
 "nbformat_minor": 2
}
