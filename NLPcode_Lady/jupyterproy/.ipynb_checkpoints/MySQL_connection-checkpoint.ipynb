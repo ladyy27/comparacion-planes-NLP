{
 "cells": [
  {
   "cell_type": "code",
   "execution_count": 1,
   "metadata": {},
   "outputs": [],
   "source": [
    "import pymysql\n",
    "import pymysql.cursors"
   ]
  },
  {
   "cell_type": "code",
   "execution_count": 2,
   "metadata": {},
   "outputs": [],
   "source": [
    "def set_connectionMySQL():\n",
    "    db = pymysql .connect(host='127.0.0.1',user='root',password='root',database='proyNLP',port = 8889,cursorclass=pymysql.cursors.DictCursor)\n",
    "    return db"
   ]
  },
  {
   "cell_type": "code",
   "execution_count": 3,
   "metadata": {},
   "outputs": [],
   "source": [
    "def close_connectionMySQL():\n",
    "    db = set_connectionMySQL()\n",
    "    db.close()\n",
    "    return"
   ]
  },
  {
   "cell_type": "code",
   "execution_count": 4,
   "metadata": {},
   "outputs": [],
   "source": [
    "def ieee_select_query(sql):\n",
    "    # DB: Declarar cursor\n",
    "    db = set_connectionMySQL()\n",
    "    # DB: Ejecutar consulta\n",
    "    try:\n",
    "        with db.cursor() as cursor:\n",
    "            #cursor.execute(\"TRUNCATE TABLE tripletas\")\n",
    "            #sql = \"SELECT Id, CAST(CONVERT(Concept USING utf8) AS binary) FROM 2017_IEEE_Taxonomy_v1 LIMIT 10\"\n",
    "            cursor.execute(sql)\n",
    "            #cursor.execute(\"SELECT * FROM planes WHERE p='asignatura' or p='texto_numero' or p='texto_limpio' or p='resultado'\")\n",
    "            resultados = cursor.fetchall()\n",
    "    except:\n",
    "        db.rollback()\n",
    "    return resultados"
   ]
  },
  {
   "cell_type": "code",
   "execution_count": 5,
   "metadata": {},
   "outputs": [],
   "source": [
    "def triples_select_query(sql):\n",
    "    # DB: Declarar cursor\n",
    "    db = set_connectionMySQL()\n",
    "    # DB: Ejecutar consulta\n",
    "    try:\n",
    "        with db.cursor() as cursor:\n",
    "            #cursor.execute(\"TRUNCATE TABLE tripletas\")\n",
    "            #sql = \"SELECT Id, CAST(CONVERT(Concept USING utf8) AS binary) FROM 2017_IEEE_Taxonomy_v1 LIMIT 10\"\n",
    "            sql = \"SELECT * FROM tripletasSinSW\"\n",
    "            cursor.execute(sql)\n",
    "            #cursor.execute(\"SELECT * FROM planes WHERE p='asignatura' or p='texto_numero' or p='texto_limpio' or p='resultado'\")\n",
    "            resultados = cursor.fetchall()\n",
    "    except:\n",
    "        db.rollback()\n",
    "    return resultados"
   ]
  },
  {
   "cell_type": "code",
   "execution_count": 6,
   "metadata": {},
   "outputs": [],
   "source": [
    "def insert_triples_query(s,p,o):\n",
    "    # DB: Declarar cursor\n",
    "    db = set_connectionMySQL()\n",
    "    cursor = db.cursor()\n",
    "    # DB: Ejecutar consulta\n",
    "    try:\n",
    "        with db.cursor() as cursor:\n",
    "            sql = \"INSERT INTO tripletas values ('%s', '%s', '%s')\"\n",
    "            cursor.execute(sql, (s, p, o))\n",
    "    except:\n",
    "        db.rollback()\n",
    "    return"
   ]
  }
 ],
 "metadata": {
  "kernelspec": {
   "display_name": "Python 3",
   "language": "python",
   "name": "python3"
  },
  "language_info": {
   "codemirror_mode": {
    "name": "ipython",
    "version": 3
   },
   "file_extension": ".py",
   "mimetype": "text/x-python",
   "name": "python",
   "nbconvert_exporter": "python",
   "pygments_lexer": "ipython3",
   "version": "3.6.5"
  }
 },
 "nbformat": 4,
 "nbformat_minor": 2
}
