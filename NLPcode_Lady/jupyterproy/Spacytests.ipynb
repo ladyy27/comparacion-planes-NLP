{
 "cells": [
  {
   "cell_type": "code",
   "execution_count": 1,
   "metadata": {},
   "outputs": [
    {
     "name": "stdout",
     "output_type": "stream",
     "text": [
      "Importing Jupyter notebook from preprocessing.ipynb\n",
      "Importing Jupyter notebook from RDFmanagement.ipynb\n"
     ]
    }
   ],
   "source": [
    "import nbimporter\n",
    "import spacy\n",
    "from preprocessing import *"
   ]
  },
  {
   "cell_type": "code",
   "execution_count": 2,
   "metadata": {},
   "outputs": [],
   "source": [
    "nlp = spacy.load('es')"
   ]
  },
  {
   "cell_type": "code",
   "execution_count": 3,
   "metadata": {},
   "outputs": [],
   "source": [
    "cad = \"Define y clasifica las variables estadísticas.\""
   ]
  },
  {
   "cell_type": "code",
   "execution_count": 4,
   "metadata": {},
   "outputs": [],
   "source": [
    "doc = nlp(cad)"
   ]
  },
  {
   "cell_type": "code",
   "execution_count": 5,
   "metadata": {},
   "outputs": [],
   "source": [
    "nerlist = stopwordsList(\"ner_list\")"
   ]
  },
  {
   "cell_type": "code",
   "execution_count": 6,
   "metadata": {},
   "outputs": [],
   "source": [
    "for linea in nerlist:\n",
    "    if cad.find(linea) >= 0:\n",
    "        escogida = linea\n",
    "        for token in doc:\n",
    "            \n",
    "            print (token.text, token.i)\n",
    "        #for i in range(0, len(doc.text)):\n",
    "            #print (i , doc[i].text)\n",
    "    #add_ner(doc, inicio, fin)\n",
    "    #assert doc[0].text == 'Give'"
   ]
  },
  {
   "cell_type": "code",
   "execution_count": null,
   "metadata": {},
   "outputs": [],
   "source": [
    "cad = \"Define y clasifica las variables estadísticas.\"\n",
    "doc = nlp(cad)"
   ]
  },
  {
   "cell_type": "code",
   "execution_count": 7,
   "metadata": {
    "scrolled": true
   },
   "outputs": [
    {
     "name": "stdout",
     "output_type": "stream",
     "text": [
      "Define Define PROPN False\n",
      "y y CONJ False\n",
      "clasifica clasificar VERB False\n",
      "las los DET True\n",
      "variables variable NOUN False\n",
      "estadísticas estadístico ADJ False\n",
      ". . PUNCT False\n"
     ]
    }
   ],
   "source": [
    "#doc.ents = add_ner(doc, 1, 6)\n",
    "for sent in doc.sents:\n",
    "    for token in sent:\n",
    "        print(token.text, token.lemma_, token.pos_,token.is_stop)"
   ]
  },
  {
   "cell_type": "code",
   "execution_count": 8,
   "metadata": {},
   "outputs": [
    {
     "name": "stdout",
     "output_type": "stream",
     "text": [
      "Define 0 6 PER\n"
     ]
    }
   ],
   "source": [
    "for ent in doc.ents:\n",
    "    print(ent.text, ent.start_char, ent.end_char, ent.label_)"
   ]
  },
  {
   "cell_type": "code",
   "execution_count": null,
   "metadata": {},
   "outputs": [],
   "source": []
  }
 ],
 "metadata": {
  "kernelspec": {
   "display_name": "Python 3",
   "language": "python",
   "name": "python3"
  },
  "language_info": {
   "codemirror_mode": {
    "name": "ipython",
    "version": 3
   },
   "file_extension": ".py",
   "mimetype": "text/x-python",
   "name": "python",
   "nbconvert_exporter": "python",
   "pygments_lexer": "ipython3",
   "version": "3.5.2"
  }
 },
 "nbformat": 4,
 "nbformat_minor": 2
}
