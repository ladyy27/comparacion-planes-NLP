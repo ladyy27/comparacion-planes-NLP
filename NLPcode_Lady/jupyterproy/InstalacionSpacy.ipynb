{
 "cells": [
  {
   "cell_type": "code",
   "execution_count": 1,
   "metadata": {},
   "outputs": [
    {
     "name": "stdout",
     "output_type": "stream",
     "text": [
      "Collecting spacy\n",
      "Collecting murmurhash<0.29,>=0.28 (from spacy)\n",
      "Collecting thinc<6.11.0,>=6.10.1 (from spacy)\n",
      "Collecting plac<1.0.0,>=0.9.6 (from spacy)\n",
      "  Using cached https://files.pythonhosted.org/packages/9e/9b/62c60d2f5bc135d2aa1d8c8a86aaf84edb719a59c7f11a4316259e61a298/plac-0.9.6-py2.py3-none-any.whl\n",
      "Collecting pathlib (from spacy)\n",
      "Collecting numpy>=1.7 (from spacy)\n",
      "  Using cached https://files.pythonhosted.org/packages/7b/61/11b05cc37ccdaabad89f04dbdc2a02905cf6de6f9b05816dba843beed328/numpy-1.14.3-cp35-cp35m-manylinux1_x86_64.whl\n",
      "Collecting cymem<1.32,>=1.30 (from spacy)\n",
      "  Using cached https://files.pythonhosted.org/packages/b6/43/39372a0bc24d336dc88b87262c30f09d0a2c759f32a2965f90fb56da46f1/cymem-1.31.2-cp35-cp35m-manylinux1_x86_64.whl\n",
      "Collecting preshed<2.0.0,>=1.0.0 (from spacy)\n",
      "Collecting dill<0.3,>=0.2 (from spacy)\n",
      "Collecting ujson>=1.35 (from spacy)\n",
      "Collecting regex==2017.4.5 (from spacy)\n",
      "Requirement not upgraded as not directly required: six<2.0.0,>=1.10.0 in ./entornos/jupyterenv/lib/python3.5/site-packages (from thinc<6.11.0,>=6.10.1->spacy) (1.11.0)\n",
      "Collecting wrapt (from thinc<6.11.0,>=6.10.1->spacy)\n",
      "Collecting cytoolz<0.9,>=0.8 (from thinc<6.11.0,>=6.10.1->spacy)\n",
      "Collecting termcolor (from thinc<6.11.0,>=6.10.1->spacy)\n",
      "Collecting tqdm<5.0.0,>=4.10.0 (from thinc<6.11.0,>=6.10.1->spacy)\n",
      "\u001b[?25l  Downloading https://files.pythonhosted.org/packages/93/24/6ab1df969db228aed36a648a8959d1027099ce45fad67532b9673d533318/tqdm-4.23.4-py2.py3-none-any.whl (42kB)\n",
      "\u001b[K    100% |████████████████████████████████| 51kB 219kB/s ta 0:00:01\n",
      "\u001b[?25hCollecting msgpack-python (from thinc<6.11.0,>=6.10.1->spacy)\n",
      "Collecting msgpack-numpy==0.4.1 (from thinc<6.11.0,>=6.10.1->spacy)\n",
      "  Using cached https://files.pythonhosted.org/packages/2e/43/393e30e2768b0357541ac95891f96b80ccc4d517e0dd2fa3042fc8926538/msgpack_numpy-0.4.1-py2.py3-none-any.whl\n",
      "Collecting toolz>=0.8.0 (from cytoolz<0.9,>=0.8->thinc<6.11.0,>=6.10.1->spacy)\n",
      "Installing collected packages: murmurhash, plac, wrapt, numpy, cymem, preshed, toolz, cytoolz, termcolor, pathlib, dill, tqdm, msgpack-python, msgpack-numpy, thinc, ujson, regex, spacy\n",
      "Successfully installed cymem-1.31.2 cytoolz-0.8.2 dill-0.2.7.1 msgpack-numpy-0.4.1 msgpack-python-0.5.6 murmurhash-0.28.0 numpy-1.14.3 pathlib-1.0.1 plac-0.9.6 preshed-1.0.0 regex-2017.4.5 spacy-2.0.11 termcolor-1.1.0 thinc-6.10.2 toolz-0.9.0 tqdm-4.23.4 ujson-1.35 wrapt-1.10.11\n"
     ]
    }
   ],
   "source": [
    "!pip install -U spacy"
   ]
  },
  {
   "cell_type": "code",
   "execution_count": 2,
   "metadata": {},
   "outputs": [
    {
     "name": "stdout",
     "output_type": "stream",
     "text": [
      "Collecting https://github.com/explosion/spacy-models/releases/download/en_core_web_sm-2.0.0/en_core_web_sm-2.0.0.tar.gz\n",
      "\u001b[?25l  Downloading https://github.com/explosion/spacy-models/releases/download/en_core_web_sm-2.0.0/en_core_web_sm-2.0.0.tar.gz (37.4MB)\n",
      "\u001b[K    100% |████████████████████████████████| 37.4MB 966kB/s ta 0:00:01   13% |████▍                           | 5.1MB 143kB/s eta 0:03:46    35% |███████████▎                    | 13.2MB 670kB/s eta 0:00:37    44% |██████████████▏                 | 16.6MB 333kB/s eta 0:01:03    46% |███████████████                 | 17.4MB 240kB/s eta 0:01:23    53% |█████████████████               | 19.9MB 339kB/s eta 0:00:52    61% |███████████████████▋            | 22.9MB 501kB/s eta 0:00:29    64% |████████████████████▌           | 24.0MB 920kB/s eta 0:00:15    68% |█████████████████████▉          | 25.5MB 495kB/s eta 0:00:24    73% |███████████████████████▍        | 27.3MB 151kB/s eta 0:01:06    79% |█████████████████████████▎      | 29.5MB 399kB/s eta 0:00:20    85% |███████████████████████████▍    | 31.9MB 495kB/s eta 0:00:11    92% |█████████████████████████████▊  | 34.6MB 975kB/s eta 0:00:03    92% |█████████████████████████████▊  | 34.7MB 712kB/s eta 0:00:04\n",
      "\u001b[?25hInstalling collected packages: en-core-web-sm\n",
      "  Running setup.py install for en-core-web-sm ... \u001b[?25ldone\n",
      "\u001b[?25hSuccessfully installed en-core-web-sm-2.0.0\n",
      "\n",
      "\u001b[93m    Linking successful\u001b[0m\n",
      "    /home/ela/entornos/jupyterenv/lib/python3.5/site-packages/en_core_web_sm\n",
      "    -->\n",
      "    /home/ela/entornos/jupyterenv/lib/python3.5/site-packages/spacy/data/en\n",
      "\n",
      "    You can now load the model via spacy.load('en')\n",
      "\n"
     ]
    }
   ],
   "source": [
    "!python -m spacy download en"
   ]
  },
  {
   "cell_type": "code",
   "execution_count": 3,
   "metadata": {},
   "outputs": [
    {
     "name": "stdout",
     "output_type": "stream",
     "text": [
      "Collecting https://github.com/explosion/spacy-models/releases/download/es_core_news_sm-2.0.0/es_core_news_sm-2.0.0.tar.gz\n",
      "\u001b[?25l  Downloading https://github.com/explosion/spacy-models/releases/download/es_core_news_sm-2.0.0/es_core_news_sm-2.0.0.tar.gz (36.7MB)\n",
      "\u001b[K    100% |████████████████████████████████| 36.7MB 650kB/s ta 0:00:011 2% |▋                               | 737kB 287kB/s eta 0:02:06    3% |█                               | 1.2MB 289kB/s eta 0:02:03    12% |████                            | 4.5MB 502kB/s eta 0:01:05    26% |████████▋                       | 9.9MB 250kB/s eta 0:01:48    30% |█████████▊                      | 11.1MB 301kB/s eta 0:01:25    34% |███████████                     | 12.6MB 945kB/s eta 0:00:26    41% |█████████████▏                  | 15.1MB 534kB/s eta 0:00:41    86% |███████████████████████████▋    | 31.7MB 1.0MB/s eta 0:00:06    96% |██████████████████████████████▊ | 35.3MB 556kB/s eta 0:00:03\n",
      "\u001b[?25hInstalling collected packages: es-core-news-sm\n",
      "  Running setup.py install for es-core-news-sm ... \u001b[?25ldone\n",
      "\u001b[?25hSuccessfully installed es-core-news-sm-2.0.0\n",
      "\n",
      "\u001b[93m    Linking successful\u001b[0m\n",
      "    /home/ela/entornos/jupyterenv/lib/python3.5/site-packages/es_core_news_sm\n",
      "    -->\n",
      "    /home/ela/entornos/jupyterenv/lib/python3.5/site-packages/spacy/data/es\n",
      "\n",
      "    You can now load the model via spacy.load('es')\n",
      "\n"
     ]
    }
   ],
   "source": [
    "!python -m spacy download es"
   ]
  },
  {
   "cell_type": "code",
   "execution_count": 4,
   "metadata": {},
   "outputs": [
    {
     "name": "stdout",
     "output_type": "stream",
     "text": [
      "Collecting https://github.com/explosion/spacy-models/releases/download/fr_core_news_sm-2.0.0/fr_core_news_sm-2.0.0.tar.gz\n",
      "\u001b[?25l  Downloading https://github.com/explosion/spacy-models/releases/download/fr_core_news_sm-2.0.0/fr_core_news_sm-2.0.0.tar.gz (39.8MB)\n",
      "\u001b[K    100% |████████████████████████████████| 39.8MB 495kB/s ta 0:00:013 3% |█▎                              | 1.5MB 413kB/s eta 0:01:33    9% |███▏                            | 3.9MB 509kB/s eta 0:01:11    33% |██████████▊                     | 13.3MB 1.0MB/s eta 0:00:27    33% |██████████▉                     | 13.5MB 628kB/s eta 0:00:42    37% |████████████▏                   | 15.1MB 497kB/s eta 0:00:50    60% |███████████████████▍            | 24.1MB 622kB/s eta 0:00:26    66% |█████████████████████▎          | 26.5MB 690kB/s eta 0:00:20    84% |███████████████████████████     | 33.6MB 401kB/s eta 0:00:16    94% |██████████████████████████████▎ | 37.6MB 370kB/s eta 0:00:06    95% |██████████████████████████████▌ | 37.9MB 381kB/s eta 0:00:05    98% |███████████████████████████████▌| 39.1MB 435kB/s eta 0:00:02    99% |███████████████████████████████▊| 39.4MB 347kB/s eta 0:00:02\n",
      "\u001b[?25hInstalling collected packages: fr-core-news-sm\n",
      "  Running setup.py install for fr-core-news-sm ... \u001b[?25ldone\n",
      "\u001b[?25hSuccessfully installed fr-core-news-sm-2.0.0\n",
      "\n",
      "\u001b[93m    Linking successful\u001b[0m\n",
      "    /home/ela/entornos/jupyterenv/lib/python3.5/site-packages/fr_core_news_sm\n",
      "    -->\n",
      "    /home/ela/entornos/jupyterenv/lib/python3.5/site-packages/spacy/data/fr\n",
      "\n",
      "    You can now load the model via spacy.load('fr')\n",
      "\n"
     ]
    }
   ],
   "source": [
    "!python -m spacy download fr"
   ]
  },
  {
   "cell_type": "code",
   "execution_count": null,
   "metadata": {},
   "outputs": [],
   "source": []
  }
 ],
 "metadata": {
  "kernelspec": {
   "display_name": "Python 3",
   "language": "python",
   "name": "python3"
  },
  "language_info": {
   "codemirror_mode": {
    "name": "ipython",
    "version": 3
   },
   "file_extension": ".py",
   "mimetype": "text/x-python",
   "name": "python",
   "nbconvert_exporter": "python",
   "pygments_lexer": "ipython3",
   "version": "3.5.2"
  }
 },
 "nbformat": 4,
 "nbformat_minor": 2
}
