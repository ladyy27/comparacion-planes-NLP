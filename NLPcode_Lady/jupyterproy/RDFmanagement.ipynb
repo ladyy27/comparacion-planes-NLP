{
 "cells": [
  {
   "cell_type": "code",
   "execution_count": 1,
   "metadata": {},
   "outputs": [],
   "source": [
    "from rdflib import Graph, Literal, BNode, Namespace, RDF,RDFS, URIRef"
   ]
  },
  {
   "cell_type": "code",
   "execution_count": 2,
   "metadata": {},
   "outputs": [],
   "source": [
    "def create_graph():\n",
    "    grafo = Graph()\n",
    "    return grafo"
   ]
  },
  {
   "cell_type": "code",
   "execution_count": 3,
   "metadata": {},
   "outputs": [],
   "source": [
    "def add_node(cadena):\n",
    "    nameNode = BNode(cadena)\n",
    "    return nameNode"
   ]
  },
  {
   "cell_type": "code",
   "execution_count": 4,
   "metadata": {},
   "outputs": [],
   "source": [
    "def add_graph(grafo,s,p,o):\n",
    "    grafo.add((s, p, o))\n",
    "    return grafo"
   ]
  },
  {
   "cell_type": "code",
   "execution_count": 5,
   "metadata": {},
   "outputs": [],
   "source": [
    "# RDF: Seteando propiedades y clases\n",
    "vutplSchema = Namespace('http://data.utpl.edu.ec/vutpl/vocabulary/')\n",
    "vutplResource = Namespace('http://data.utpl.edu.ec/vutpl/resource/')\n",
    "\n",
    "sentencetype = URIRef(vutplSchema+'Sentence')\n",
    "tokentype = URIRef(vutplSchema+'Token')\n",
    "roltype = URIRef(vutplSchema+'Rol')\n",
    "chunktype = URIRef(vutplSchema+'Chunk')\n",
    "dependencytype = URIRef(vutplSchema+'Dependency')\n",
    "postagtype = URIRef(vutplSchema+'PosTag')\n",
    "entitytype = URIRef(vutplSchema+'Entity')\n",
    "\n",
    "#Definir Clases\n",
    "grade = URIRef(vutplSchema+'Grade/')\n",
    "subject = URIRef(vutplSchema+'Subject/')\n",
    "plan = URIRef(vutplSchema+'TeachingPlan/')\n",
    "section = URIRef(vutplSchema+'Section/')\n",
    "sentence = URIRef(vutplResource+'Sentence/')\n",
    "token= URIRef(vutplResource+'Token/')\n",
    "rol = URIRef(vutplResource+'Rol/')\n",
    "chunk = URIRef(vutplResource+'Chunk/')\n",
    "dependency = URIRef(vutplResource+'Dependency/')\n",
    "postag = URIRef(vutplResource+'PosTag/')\n",
    "entity = URIRef(vutplResource+'Entity/')\n",
    "\n",
    "#Definir Propiedades\n",
    "hasSubject = URIRef(vutplSchema+'hasSubject')\n",
    "hasTeachingPlan = URIRef(vutplSchema+'hasTeachingPlan')\n",
    "hasSection = URIRef(vutplSchema+'hasSection')\n",
    "hasSentence = URIRef(vutplSchema+'hasSentence')\n",
    "sentenceId = URIRef(vutplSchema+'sentenceId')\n",
    "dataSentence = URIRef(vutplSchema+'dataSentence')\n",
    "hasToken= URIRef(vutplSchema+'hasToken')\n",
    "pnp = URIRef(vutplSchema+'pnp')\n",
    "tokenId = URIRef(vutplSchema+'tokenId')\n",
    "pos = URIRef(vutplSchema+'pos')\n",
    "data = URIRef(vutplSchema+'data')\n",
    "ner = URIRef(vutplSchema+'ner')\n",
    "lemma = URIRef(vutplSchema+'lemma')\n",
    "hasRole = URIRef(vutplSchema+'hasRole')\n",
    "hasChunk = URIRef(vutplSchema+'hasChunk')"
   ]
  }
 ],
 "metadata": {
  "kernelspec": {
   "display_name": "Python 3",
   "language": "python",
   "name": "python3"
  },
  "language_info": {
   "codemirror_mode": {
    "name": "ipython",
    "version": 3
   },
   "file_extension": ".py",
   "mimetype": "text/x-python",
   "name": "python",
   "nbconvert_exporter": "python",
   "pygments_lexer": "ipython3",
   "version": "3.5.2"
  }
 },
 "nbformat": 4,
 "nbformat_minor": 2
}
